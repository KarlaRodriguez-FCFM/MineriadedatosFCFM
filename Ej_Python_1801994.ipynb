{
 "cells": [
  {
   "cell_type": "code",
   "execution_count": 40,
   "metadata": {},
   "outputs": [
    {
     "name": "stdout",
     "output_type": "stream",
     "text": [
      "Introducir tu nombre: Karla\n",
      "Introduce tu matrícula: 1801994\n",
      "Karla1801994\n"
     ]
    }
   ],
   "source": [
    "#EJERCICIO 1\n",
    "nombre=input(\"Introducir tu nombre: \")\n",
    "matrícula=input(\"Introduce tu matrícula: \")\n",
    "print(nombre+matrícula)"
   ]
  },
  {
   "cell_type": "code",
   "execution_count": 41,
   "metadata": {},
   "outputs": [
    {
     "name": "stdout",
     "output_type": "stream",
     "text": [
      "Introducir primer número: 1\n",
      "Introducir segundo número: 2\n",
      "La suma de los números es:  3\n",
      "La resta de los números es:  -1\n",
      "La multiplicación de los números es:  2\n",
      "La división de los números es:  0.5\n",
      "El exponente de los números es:  1\n"
     ]
    }
   ],
   "source": [
    "#EJERCICIO 2\n",
    "a=int(input(\"Introducir primer número: \"))\n",
    "b=int(input(\"Introducir segundo número: \"))\n",
    "c=a+b\n",
    "print(\"La suma de los números es: \",c)\n",
    "k=a-b\n",
    "print(\"La resta de los números es: \",k)\n",
    "J=a*b\n",
    "print(\"La multiplicación de los números es: \",J)\n",
    "L=a/b\n",
    "print(\"La división de los números es: \",L)\n",
    "S=a**b\n",
    "print(\"El exponente de los números es: \",S)"
   ]
  },
  {
   "cell_type": "code",
   "execution_count": 42,
   "metadata": {},
   "outputs": [
    {
     "name": "stdout",
     "output_type": "stream",
     "text": [
      "3\n",
      "6\n",
      "9\n",
      "12\n",
      "15\n",
      "18\n",
      "21\n",
      "24\n",
      "27\n",
      "30\n",
      "165\n"
     ]
    }
   ],
   "source": [
    "#EJERCICIO 3\n",
    "suma=0\n",
    "a=0\n",
    "for i in range(1,11):\n",
    "    a=3*i\n",
    "    print(a)\n",
    "    suma=suma+a\n",
    "print(suma)\n",
    "    "
   ]
  },
  {
   "cell_type": "code",
   "execution_count": 43,
   "metadata": {},
   "outputs": [
    {
     "name": "stdout",
     "output_type": "stream",
     "text": [
      "Introducir un número: 1\n",
      "El número es impar \n",
      "1 es un número primo\n"
     ]
    }
   ],
   "source": [
    "#EJERCICIO 4\n",
    "número=int(input(\"Introducir un número: \"))\n",
    "if número%2==0:\n",
    "     print(\"El número es par \")\n",
    "else:\n",
    "     print(\"El número es impar \")\n",
    "    \n",
    "#Si el número dado es mayor que 1 #https://www.geeksforgeeks.org/python-program-to-check-whether-a-number-is-prime-or-not/\n",
    "if numero > 1:\n",
    " \n",
    "    #Iterar de 2 a n / 2\n",
    "    for i in range(2, número):\n",
    " \n",
    "        #Si num es divisible por cualquier número entre\n",
    "        #2 y n / 2, no es primo\n",
    "        if (número % i) == 0:\n",
    "            print(número, \"no es un número primo\")\n",
    "            break\n",
    "    else:\n",
    "        print(número, \"es un número primo\")\n",
    " \n",
    "else:\n",
    "    print(número, \"no es un número primo\")"
   ]
  },
  {
   "cell_type": "code",
   "execution_count": 44,
   "metadata": {},
   "outputs": [
    {
     "name": "stdout",
     "output_type": "stream",
     "text": [
      "\n",
      "    ¿Qué quieres hacer?\n",
      "    1) Sumar los números\n",
      "    2) Restar los números\n",
      "    3) Multiplicar los números\n",
      "    4) Dividir los números\n",
      "    5) El exponente de los números \n",
      "    6) Salir\n",
      "    \n",
      "Introduce una opción: 1\n",
      "Ingresa el primer número: 3\n",
      "Ingresa el segundo número: 5\n",
      "El resultado de la suma de  3 y 5 es igual a: 8\n",
      "\n",
      "    ¿Qué quieres hacer?\n",
      "    1) Sumar los números\n",
      "    2) Restar los números\n",
      "    3) Multiplicar los números\n",
      "    4) Dividir los números\n",
      "    5) El exponente de los números \n",
      "    6) Salir\n",
      "    \n",
      "Introduce una opción: 6\n"
     ]
    }
   ],
   "source": [
    "#EJERCICIO 5\n",
    "class calculadora:\n",
    "    def sumar(self, x, y):\n",
    "        print ('El resultado de la suma de  ' +str(x) + ' y '+str(y)+ ' es igual a: '+str((x+y)) )\n",
    "    def restar(self, x, y):\n",
    "        print ('El resultado de la resta de  '+str(x) + ' y '+str(y)+ ' es igual a: '+str((x-y)) )\n",
    "    def multiplicar(self, x, y):\n",
    "        print ('El resultado de la multiplicar de '+str(x) + ' y '+str(y)+ ' es igual a: '+str((x*y)) )\n",
    "    def dividir(self, x, y):\n",
    "        print ('El resultado de dividir  '+str(x) + ' y '+str(y)+ ' es igual a: '+str((x/y)) )\n",
    "    def exponente(self, x, y):\n",
    "        print ('El resultado de elevar a una potencia  '+str(x) + ' y' +str(y)+ ' es igual a: '+str((x**y)) )\n",
    "\n",
    "calc= calculadora()\n",
    "def menu():\n",
    "    print(\"\"\"\n",
    "    ¿Qué quieres hacer?\n",
    "    1) Sumar los números\n",
    "    2) Restar los números\n",
    "    3) Multiplicar los números\n",
    "    4) Dividir los números\n",
    "    5) El exponente de los números \n",
    "    6) Salir\n",
    "    \"\"\")\n",
    "    return int(input('Introduce una opción: '))\n",
    "\n",
    "while(True):\n",
    "    opción= menu()\n",
    "    if(opción==6):\n",
    "        break\n",
    "    else:\n",
    "        num1= int(input('Ingresa el primer número: '))\n",
    "        num2= int(input('Ingresa el segundo número: '))\n",
    "        \n",
    "        if(opción==1):\n",
    "            calc.sumar(num1, num2)\n",
    "        elif(opción==2):\n",
    "            calc.restar(num1, num2)\n",
    "        elif(opción==3):\n",
    "            calc.multiplicar(num1, num2)\n",
    "        elif(opción==4):\n",
    "            calc.dividir(num1, num2)\n",
    "        elif(opción==5):\n",
    "            calc.exponente(num1, num2)\n",
    "        else:\n",
    "            print('Opción no valida')\n"
   ]
  },
  {
   "cell_type": "code",
   "execution_count": 45,
   "metadata": {},
   "outputs": [
    {
     "name": "stdout",
     "output_type": "stream",
     "text": [
      "2.3 es de tipo:  <class 'float'>\n",
      "7 es de tipo:  <class 'int'>\n",
      "False es de tipo:  <class 'bool'>\n",
      "(7+3j) es de tipo:  <class 'complex'> \n",
      "\n",
      "Primer valor de la tupla es igual a: 1 y el último es igual a: 3 \n",
      "\n",
      "(1, 2, 3, 'Cinthya', 'Ale', 'Aldo')\n"
     ]
    },
    {
     "data": {
      "text/plain": [
       "False"
      ]
     },
     "execution_count": 45,
     "metadata": {},
     "output_type": "execute_result"
    }
   ],
   "source": [
    "#Tuplas\n",
    "#Crear una variable flotante, integer, boleana y compleja e imprimir el tipo de variable que es\n",
    "varflo = float(2.30)\n",
    "print(varflo, \"es de tipo: \",type(varflo))\n",
    "varint = int(7)\n",
    "print(varint, \"es de tipo: \",type(varint))\n",
    "varbol = bool(0)\n",
    "print(varbol, \"es de tipo: \",type(varbol))\n",
    "varcom = complex(7,3) #https://www.geeksforgeeks.org/complex-numbers-in-python-set-1-introduction/\n",
    "print(varcom, \"es de tipo: \",type(varcom),\"\\n\")\n",
    "\n",
    "#Crear una tupla con valores enteros imprimir el primer y último valor\n",
    "listatupla = (1,2,3)\n",
    "print(\"Primer valor de la tupla es igual a:\",listatupla[0], \"y el último es igual a:\",listatupla[2],\"\\n\")\n",
    "\n",
    "#Añadir 3 valores de string a la tupla\n",
    "aux = list(listatupla)\n",
    "aux.append(\"Cinthya\")\n",
    "aux.append(\"Ale\")\n",
    "aux.append(\"Aldo\")\n",
    "listatupla = tuple(aux)\n",
    "print(listatupla)\n",
    "\n",
    "#Verificar si una variable existe dentro de la tupla\n",
    "listavar = []\n",
    "listavar.extend((varflo,varint,varbol,varcom)) #https://stackoverflow.com/questions/14860460/append-several-variables-to-a-list-in-python\n",
    "any(t in listatupla for t in listavar) #https://stackoverflow.com/questions/41188243/check-if-tuple-contains-at-least-one-of-multiple-values\n"
   ]
  },
  {
   "cell_type": "code",
   "execution_count": 46,
   "metadata": {},
   "outputs": [
    {
     "name": "stdout",
     "output_type": "stream",
     "text": [
      "[159, 110, 50, 173, 72, 53, 162, 45, 147, 84, 29, 85, 156, 143, 166, 53, 149, 6, 9, 23, 174, 90, 18, 36, 175, 42, 198, 76, 63, 2, 35, 175, 86, 56, 20, 60, 139, 151, 93, 11]\n",
      "Números pares:  [110, 50, 72, 162, 84, 156, 166, 6, 174, 90, 18, 36, 42, 198, 76, 2, 86, 56, 20, 60]\n",
      "Números impares:  [159, 173, 53, 45, 147, 29, 85, 143, 53, 149, 9, 23, 175, 63, 35, 175, 139, 151, 93, 11]\n",
      "Cantidad de números pares:  20\n",
      "Cantidad de números impares:  20\n",
      "[198, 174, 166, 162, 156, 110, 90, 86, 84, 76, 72, 60, 56, 50, 42, 36, 20, 18, 6, 2]\n",
      "[159, 110, 50, 173, 72, 155, 53, 162, 45, 147, 84, 29, 85, 156, 143, 166, 53, 149, 6, 9, 23, 174, 90, 18, 36, 175, 42, 198, 76, 63, 2, 35, 175, 86, 56, 20, 60, 139, 151, 93, 11]\n",
      "[159, 110, 50, 173, 72, 155, 53, 162, 45, 147, 84, 29, 85, 156, 143, 166, 53, 149, 6, 9, 23, 174, 90, 18, 36, 175, 42, 198, 76, 63, 2, 35, 175, 86, 56, 20, 60, 139, 151, 93, 11, 27, 10, 18]\n",
      "[18, 10, 27, 11, 93, 151, 139, 60, 20, 56, 86, 175, 35, 2, 63, 76, 198, 42, 175, 36, 18, 90, 174, 23, 9, 6, 149, 53, 166, 143, 156, 85, 29, 84, 147, 45, 162, 53, 155, 72, 173, 50, 110, 159]\n",
      "[18, 10, 27, 11, 93, 151, 139, 60, 20, 56, 86, 175, 35, 2, 63, 76, 198, 42, 175, 36, 18, 90, 174, 23, 9, 6, 149, 53, 166, 143, 'Alejandra', 156, 85, 29, 84, 147, 45, 162, 53, 155, 72, 173, 50, 110, 159]\n"
     ]
    }
   ],
   "source": [
    "#Listas\n",
    "#Crear una lista con 40 elementos aleatorios enteros.\n",
    "import random\n",
    "\n",
    "lis= []\n",
    "\n",
    "for i in range (40):\n",
    "    registro=random.randint(0,200)\n",
    "    lis.append(registro)\n",
    "    \n",
    "print (lis)\n",
    "#Con una función (def) crear dos listas nuevas a partir de la lista creada por números  aleatorios, en la cual en una esten los elementos pares, y en la otra los elementos impares.\n",
    "def par_impar(lis):\n",
    "    par=[]\n",
    "    impar=[]\n",
    "    for i in range(len(lis)):\n",
    "        if lis[i]%2==0:\n",
    "            par.append(lis[i])\n",
    "        else:\n",
    "            impar.append(lis[i])\n",
    "    return par,impar\n",
    "\n",
    "par,impar=par_impar(lis)\n",
    "print(\"Números pares: \",par)\n",
    "print(\"Números impares: \",impar)\n",
    "#Crear dos variables con la longitud de ambas listas nuevas e imprimir las variables.\n",
    "p=len(par)\n",
    "i=len(impar)\n",
    "print(\"Cantidad de números pares: \",p)\n",
    "print(\"Cantidad de números impares: \",i)\n",
    "\n",
    "#Ordenar los elementos de la lista par de mayor a menor, y los de la lista impar de menor a mayor.\n",
    "\n",
    "par.sort(reverse=True)\n",
    "print (par)\n",
    "\n",
    "#Utilizar al menos cuatro de las funciones de listas en python en la lista original de 40 elementos.\n",
    "#Función 1\n",
    "\n",
    "lis.insert(5,155)\n",
    "print (lis)\n",
    "\n",
    "#Función 2\n",
    "\n",
    "lista=[27, 10, 18]\n",
    "lis.extend(lista)\n",
    "print(lis)\n",
    "\n",
    "#Función 3\n",
    "\n",
    "lis.reverse()\n",
    "print (lis)\n",
    "\n",
    "#Función 4\n",
    "\n",
    "lis.insert (30, \"Alejandra\")\n",
    "print (lis)\n"
   ]
  },
  {
   "cell_type": "code",
   "execution_count": 47,
   "metadata": {},
   "outputs": [
    {
     "name": "stdout",
     "output_type": "stream",
     "text": [
      "{'Cinthya': 22, 'Karla': 21, 'Osvaldo': 26, 'Victor': 22, 'Jorge': 21, 'Norma': 49}\n",
      "[21, 21, 22, 22, 26, 49]\n",
      "Cinthya\n",
      "Karla\n",
      "Osvaldo\n",
      "Victor\n",
      "Jorge\n",
      "Norma\n",
      "{'Cinthya': 22, 'Karla': 21, 'Osvaldo': 26, 'Victor': 22, 'Jorge': 21, 'Norma': 49, 'Sergio': 51, 'Elias': 20}\n"
     ]
    }
   ],
   "source": [
    "#Diccionario\n",
    "#Crear un diccionario de 6 personas que conozcas con su primer nombre y su edad.\n",
    "dic={\"Cinthya\":22,\"Karla\":21,\"Osvaldo\":26,\"Victor\":22,\"Jorge\":21,\"Norma\":49}\n",
    "print (dic)\n",
    "\n",
    "#Crear una lista con los valores de la edad y reacomodar la lista de menor a mayor valor.\n",
    "\n",
    "años=[i for i in dic.values()]\n",
    "años.sort()\n",
    "print (años)\n",
    "\n",
    "#Usando el diccionario y un loop, imprimir solo los nombres.\n",
    "\n",
    "for i in dic:\n",
    "    print(i)\n",
    "    \n",
    "#Añadir dos personas nuevas a tu diccionario, incluyendo edad.\n",
    "\n",
    "dic[\"Sergio\"]=51\n",
    "dic[\"Elias\"]=20\n",
    "print(dic)\n"
   ]
  },
  {
   "cell_type": "code",
   "execution_count": 48,
   "metadata": {},
   "outputs": [
    {
     "name": "stdout",
     "output_type": "stream",
     "text": [
      "Set Aleatorio:\n",
      " {1, 2, 3, 4, 5, 6, 7, 8, 9, 10, 11, 12, 13, 14, 15, 16, 17, 18, 19, 20, 21, 22, 23, 24, 25}\n",
      "\n",
      "La lonngitud del set es de:\n",
      " 25\n",
      "\n",
      "El número: 1 , ¿Está en el set inicial?:\n",
      " True\n",
      "\n",
      "El número: 9 , ¿Está en el set inicial?:\n",
      " True\n",
      "\n",
      "El número: 1 , ¿Está en el set inicial?:\n",
      " True\n",
      "\n",
      "El número: 1 , ¿Está en el set inicial?:\n",
      " True\n",
      "\n",
      "El número: 5 , ¿Está en el set inicial?:\n",
      " True\n",
      "\n",
      "El número: 1 , ¿Está en el set inicial?:\n",
      " True\n",
      "\n",
      "El número: 3 , ¿Está en el set inicial?:\n",
      " True\n",
      "\n",
      "El número: 6 , ¿Está en el set inicial?:\n",
      " True\n",
      "\n",
      "El número: 5 , ¿Está en el set inicial?:\n",
      " True\n",
      "\n",
      "El número: 5 , ¿Está en el set inicial?:\n",
      " True\n"
     ]
    }
   ],
   "source": [
    "#Sets\n",
    "#Crea un set con 100 números  aleatorios enteros del 1 al 25\n",
    "import random as r\n",
    "set1 = set()\n",
    "i=0\n",
    "while i < 100:\n",
    "    set1.add(r.randint(1,25))\n",
    "    i = i+1\n",
    "print(\"Set Aleatorio:\\n\",set1)\n",
    "\n",
    "#Comprueba la longitud de tu set.\n",
    "longset = len(set1)\n",
    "print(\"\\nLa lonngitud del set es de:\\n\",longset)\n",
    "\n",
    "#Crea una lista de 5 números  aleatorios del 1 al 10 y comprueba si cada valor aparece en el set inicial\n",
    "lista5 = list()\n",
    "i = 0\n",
    "while i < 10:\n",
    "    num = r.randint(1,10)\n",
    "    lista5.append(num)\n",
    "    i = i+1\n",
    "i = 0\n",
    "while i < 10:\n",
    "    comparador = lista5[i] in set1\n",
    "    print(\"\\nEl número:\",lista5[i],\", ¿Está en el set inicial?:\\n\",comparador)\n",
    "    i = i+1"
   ]
  },
  {
   "cell_type": "code",
   "execution_count": null,
   "metadata": {},
   "outputs": [],
   "source": []
  }
 ],
 "metadata": {
  "kernelspec": {
   "display_name": "Python 3",
   "language": "python",
   "name": "python3"
  },
  "language_info": {
   "codemirror_mode": {
    "name": "ipython",
    "version": 3
   },
   "file_extension": ".py",
   "mimetype": "text/x-python",
   "name": "python",
   "nbconvert_exporter": "python",
   "pygments_lexer": "ipython3",
   "version": "3.8.5"
  }
 },
 "nbformat": 4,
 "nbformat_minor": 4
}
